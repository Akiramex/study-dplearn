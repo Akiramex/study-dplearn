{
 "cells": [
  {
   "cell_type": "markdown",
   "id": "887a6ee1-8e1a-4c01-853d-bd2564a86bc2",
   "metadata": {},
   "source": [
    "## 导数和微分"
   ]
  },
  {
   "cell_type": "raw",
   "id": "234d3563-00e7-40b2-acbf-3c6c281bf808",
   "metadata": {},
   "source": [
    "就是求导呗\n",
    "常数相乘法则：\n",
    "加法法则：\n",
    "乘法法则：\n",
    "除法法则："
   ]
  },
  {
   "cell_type": "markdown",
   "id": "fa360570-68e7-41b8-8fa3-5a6a023346ec",
   "metadata": {},
   "source": [
    "## 偏导数"
   ]
  },
  {
   "cell_type": "code",
   "execution_count": null,
   "id": "302e5b59-f0d8-4e14-9a4b-f6f07525edf3",
   "metadata": {},
   "outputs": [],
   "source": []
  },
  {
   "cell_type": "markdown",
   "id": "29abdf79-5191-48f1-83f0-1afe687184ca",
   "metadata": {},
   "source": [
    "## 梯度"
   ]
  },
  {
   "cell_type": "code",
   "execution_count": null,
   "id": "ee3926e5-0bea-46ac-9a86-b4601998b24a",
   "metadata": {},
   "outputs": [],
   "source": []
  }
 ],
 "metadata": {
  "kernelspec": {
   "display_name": "Python 3 (ipykernel)",
   "language": "python",
   "name": "python3"
  },
  "language_info": {
   "codemirror_mode": {
    "name": "ipython",
    "version": 3
   },
   "file_extension": ".py",
   "mimetype": "text/x-python",
   "name": "python",
   "nbconvert_exporter": "python",
   "pygments_lexer": "ipython3",
   "version": "3.8.15"
  }
 },
 "nbformat": 4,
 "nbformat_minor": 5
}
