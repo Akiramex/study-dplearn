{
 "cells": [
  {
   "cell_type": "markdown",
   "id": "077134d1-4522-44bb-b118-70e8efe1c5ae",
   "metadata": {},
   "source": [
    "# 数据操作"
   ]
  },
  {
   "cell_type": "markdown",
   "id": "0c751188-6e40-41c9-95bc-e85889c8f72f",
   "metadata": {},
   "source": [
    "## numpy"
   ]
  },
  {
   "cell_type": "code",
   "execution_count": 1,
   "id": "1704713b-c727-4335-b8ab-5f5cf5004c01",
   "metadata": {},
   "outputs": [],
   "source": [
    "import numpy as np"
   ]
  },
  {
   "cell_type": "raw",
   "id": "291c3c2f-6758-429a-8990-f4102e974501",
   "metadata": {},
   "source": [
    "0-d(标量） 1.0  -- 一个类别\n",
    "1-d(向量) [1.0, 2.7]  -- 一个特征向量\n",
    "2-d(矩阵) [[1.0,2.7]\n",
    "           [5.0,0.2]] -- 一个样本-特征矩阵\n",
    "3-d 三维 -- RGB图片\n",
    "4-d 四维 -- 一个RGB图片批量\n",
    "5-d 五维 -- 一个视频批量"
   ]
  },
  {
   "cell_type": "code",
   "execution_count": 2,
   "id": "4f0bf82e-ac2e-41e0-be99-4bc713e295f4",
   "metadata": {},
   "outputs": [],
   "source": [
    "arr = np.arange(16)"
   ]
  },
  {
   "cell_type": "code",
   "execution_count": 3,
   "id": "31d2f207-6017-4c79-83f5-92246a650a6c",
   "metadata": {},
   "outputs": [
    {
     "data": {
      "text/plain": [
       "array([[ 0,  1,  2,  3],\n",
       "       [ 4,  5,  6,  7],\n",
       "       [ 8,  9, 10, 11],\n",
       "       [12, 13, 14, 15]])"
      ]
     },
     "execution_count": 3,
     "metadata": {},
     "output_type": "execute_result"
    }
   ],
   "source": [
    "arr = arr.reshape(4,4)\n",
    "arr"
   ]
  },
  {
   "cell_type": "code",
   "execution_count": 4,
   "id": "13724ec7-0221-4734-a0d6-1104646c83d8",
   "metadata": {},
   "outputs": [
    {
     "data": {
      "text/plain": [
       "6"
      ]
     },
     "execution_count": 4,
     "metadata": {},
     "output_type": "execute_result"
    }
   ],
   "source": [
    "a = arr[1,2]\n",
    "a"
   ]
  },
  {
   "cell_type": "code",
   "execution_count": 5,
   "id": "1d47e453-91c7-4254-b9d9-98340a9fa154",
   "metadata": {},
   "outputs": [
    {
     "data": {
      "text/plain": [
       "array([4, 5, 6, 7])"
      ]
     },
     "execution_count": 5,
     "metadata": {},
     "output_type": "execute_result"
    }
   ],
   "source": [
    "b = arr[1,:]\n",
    "b"
   ]
  },
  {
   "cell_type": "code",
   "execution_count": 6,
   "id": "9fbfb7d0-9922-4cfb-b570-7597eaf2162c",
   "metadata": {},
   "outputs": [
    {
     "data": {
      "text/plain": [
       "array([ 1,  5,  9, 13])"
      ]
     },
     "execution_count": 6,
     "metadata": {},
     "output_type": "execute_result"
    }
   ],
   "source": [
    "c = arr[:,1]\n",
    "c"
   ]
  },
  {
   "cell_type": "code",
   "execution_count": 7,
   "id": "79c9f330-ebe8-4eb7-add9-4d6d42a8106e",
   "metadata": {},
   "outputs": [
    {
     "data": {
      "text/plain": [
       "array([[ 5,  6,  7],\n",
       "       [ 9, 10, 11]])"
      ]
     },
     "execution_count": 7,
     "metadata": {},
     "output_type": "execute_result"
    }
   ],
   "source": [
    "d = arr[1:3, 1:]\n",
    "d"
   ]
  },
  {
   "cell_type": "code",
   "execution_count": 8,
   "id": "13c3aefc-5462-4263-97ea-35cf426ec534",
   "metadata": {},
   "outputs": [
    {
     "data": {
      "text/plain": [
       "array([[ 0,  2],\n",
       "       [12, 14]])"
      ]
     },
     "execution_count": 8,
     "metadata": {},
     "output_type": "execute_result"
    }
   ],
   "source": [
    "# 每三行，每两列\n",
    "e = arr[::3, ::2]  \n",
    "e"
   ]
  },
  {
   "cell_type": "markdown",
   "id": "3462f27b-ded5-4880-9d14-99276c2f38c1",
   "metadata": {},
   "source": [
    "### 连接(concatenate)"
   ]
  },
  {
   "cell_type": "code",
   "execution_count": 10,
   "id": "d9c6382c-a3da-4b8d-b717-90882894042d",
   "metadata": {},
   "outputs": [],
   "source": [
    "X = np.arange(12).reshape(3,4)\n",
    "Y = np.array([[2,1,4,3],[1,2,3,4],[4,3,2,1]])"
   ]
  },
  {
   "cell_type": "code",
   "execution_count": 11,
   "id": "382d76b1-8b2d-4eb3-b23a-3fec0bb532c4",
   "metadata": {},
   "outputs": [
    {
     "data": {
      "text/plain": [
       "array([[ 0,  1,  2,  3],\n",
       "       [ 4,  5,  6,  7],\n",
       "       [ 8,  9, 10, 11],\n",
       "       [ 2,  1,  4,  3],\n",
       "       [ 1,  2,  3,  4],\n",
       "       [ 4,  3,  2,  1]])"
      ]
     },
     "execution_count": 11,
     "metadata": {},
     "output_type": "execute_result"
    }
   ],
   "source": [
    "np.concatenate([X,Y], axis=0)"
   ]
  },
  {
   "cell_type": "code",
   "execution_count": 13,
   "id": "6e5a5611-1fd9-4387-8517-e808db61ca6a",
   "metadata": {},
   "outputs": [
    {
     "data": {
      "text/plain": [
       "array([[ 0,  1,  2,  3,  2,  1,  4,  3],\n",
       "       [ 4,  5,  6,  7,  1,  2,  3,  4],\n",
       "       [ 8,  9, 10, 11,  4,  3,  2,  1]])"
      ]
     },
     "execution_count": 13,
     "metadata": {},
     "output_type": "execute_result"
    }
   ],
   "source": [
    "np.concatenate([X,Y], axis=1)"
   ]
  },
  {
   "cell_type": "code",
   "execution_count": 14,
   "id": "60861b3d-4301-47be-ad69-541a105ef8f3",
   "metadata": {},
   "outputs": [
    {
     "data": {
      "text/plain": [
       "array([[False,  True, False,  True],\n",
       "       [False, False, False, False],\n",
       "       [False, False, False, False]])"
      ]
     },
     "execution_count": 14,
     "metadata": {},
     "output_type": "execute_result"
    }
   ],
   "source": [
    "X == Y"
   ]
  },
  {
   "cell_type": "code",
   "execution_count": 15,
   "id": "33d62fe5-494b-4ab9-8b85-6d8f4d47fc8b",
   "metadata": {},
   "outputs": [
    {
     "data": {
      "text/plain": [
       "66"
      ]
     },
     "execution_count": 15,
     "metadata": {},
     "output_type": "execute_result"
    }
   ],
   "source": [
    "X.sum()"
   ]
  },
  {
   "cell_type": "markdown",
   "id": "d8bcdc77-0ab1-4167-8f6f-cf08d3d40d0f",
   "metadata": {},
   "source": [
    "### 广播机制"
   ]
  },
  {
   "cell_type": "code",
   "execution_count": 16,
   "id": "90d73dea-8032-4db9-a549-b6bf4da1964f",
   "metadata": {},
   "outputs": [
    {
     "data": {
      "text/plain": [
       "(array([[0],\n",
       "        [1],\n",
       "        [2]]),\n",
       " array([[0, 1]]))"
      ]
     },
     "execution_count": 16,
     "metadata": {},
     "output_type": "execute_result"
    }
   ],
   "source": [
    "a = np.arange(3).reshape(3, 1)\n",
    "b = np.arange(2).reshape(1, 2)\n",
    "a, b"
   ]
  },
  {
   "cell_type": "code",
   "execution_count": 17,
   "id": "650e9fb8-4b9f-4344-869e-e8582e771174",
   "metadata": {},
   "outputs": [
    {
     "data": {
      "text/plain": [
       "array([[0, 1],\n",
       "       [1, 2],\n",
       "       [2, 3]])"
      ]
     },
     "execution_count": 17,
     "metadata": {},
     "output_type": "execute_result"
    }
   ],
   "source": [
    "a+b"
   ]
  },
  {
   "cell_type": "markdown",
   "id": "5a94dbf6-521d-4284-b7a3-f463ade49744",
   "metadata": {},
   "source": [
    "## PyTorch"
   ]
  }
 ],
 "metadata": {
  "kernelspec": {
   "display_name": "Python 3 (ipykernel)",
   "language": "python",
   "name": "python3"
  },
  "language_info": {
   "codemirror_mode": {
    "name": "ipython",
    "version": 3
   },
   "file_extension": ".py",
   "mimetype": "text/x-python",
   "name": "python",
   "nbconvert_exporter": "python",
   "pygments_lexer": "ipython3",
   "version": "3.8.19"
  }
 },
 "nbformat": 4,
 "nbformat_minor": 5
}
