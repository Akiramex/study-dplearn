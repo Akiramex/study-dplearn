{
 "cells": [
  {
   "cell_type": "markdown",
   "id": "951d5c31-1b7f-432c-8aa5-5d4daed2b86d",
   "metadata": {},
   "source": [
    "## 标量"
   ]
  },
  {
   "cell_type": "code",
   "execution_count": 1,
   "id": "8765e38a-6725-4d78-97ae-75f249a74c27",
   "metadata": {},
   "outputs": [],
   "source": [
    "import numpy as np"
   ]
  },
  {
   "cell_type": "code",
   "execution_count": 2,
   "id": "78f86534-a71a-4903-ab33-54c91acd7e8e",
   "metadata": {},
   "outputs": [],
   "source": [
    "a = np.array(4.0)"
   ]
  },
  {
   "cell_type": "code",
   "execution_count": 3,
   "id": "416cfb69-14a1-4bb8-b506-2c69a3d21721",
   "metadata": {},
   "outputs": [
    {
     "data": {
      "text/plain": [
       "()"
      ]
     },
     "execution_count": 3,
     "metadata": {},
     "output_type": "execute_result"
    }
   ],
   "source": [
    "a.shape\n",
    "# 标量没有形状"
   ]
  },
  {
   "cell_type": "markdown",
   "id": "afb5cca9-b767-42ca-9603-4d02d44c6ad6",
   "metadata": {},
   "source": [
    "## 向量"
   ]
  },
  {
   "cell_type": "code",
   "execution_count": 4,
   "id": "cb8a0845-b250-4b92-bbfd-37aa78bd5549",
   "metadata": {},
   "outputs": [
    {
     "data": {
      "text/plain": [
       "(4,)"
      ]
     },
     "execution_count": 4,
     "metadata": {},
     "output_type": "execute_result"
    }
   ],
   "source": [
    "x = np.arange(4)\n",
    "x.shape"
   ]
  },
  {
   "cell_type": "code",
   "execution_count": 5,
   "id": "a9856eb9-3624-44eb-9280-cfbbe500e7d0",
   "metadata": {},
   "outputs": [
    {
     "data": {
      "text/plain": [
       "4"
      ]
     },
     "execution_count": 5,
     "metadata": {},
     "output_type": "execute_result"
    }
   ],
   "source": [
    "len(x)"
   ]
  },
  {
   "cell_type": "raw",
   "id": "83e214fc-39fe-41ed-8c99-2372e2866487",
   "metadata": {},
   "source": [
    "请注意，维度（dimension）这个词在不同上下文时往往会有不同的含义，这经常会使人感到困惑。 为了清楚起见，我们在此明确一下： 向量或轴的维度被用来表示向量或轴的长度，即向量或轴的元素数量。 然而，张量的维度用来表示张量具有的轴数。 在这个意义上，张量的某个轴的维数就是这个轴的长度。"
   ]
  },
  {
   "cell_type": "markdown",
   "id": "e4882e10-e4df-4097-b3da-4a8ec0f3c763",
   "metadata": {},
   "source": [
    "## 矩阵"
   ]
  },
  {
   "cell_type": "code",
   "execution_count": 6,
   "id": "b07a6804-d9bd-484c-bbe9-a96142e9b4cd",
   "metadata": {},
   "outputs": [
    {
     "data": {
      "text/plain": [
       "array([[ 0,  1,  2,  3],\n",
       "       [ 4,  5,  6,  7],\n",
       "       [ 8,  9, 10, 11],\n",
       "       [12, 13, 14, 15],\n",
       "       [16, 17, 18, 19]])"
      ]
     },
     "execution_count": 6,
     "metadata": {},
     "output_type": "execute_result"
    }
   ],
   "source": [
    "A = np.arange(20).reshape(5, 4)\n",
    "A"
   ]
  },
  {
   "cell_type": "raw",
   "id": "ba4d9dac-79b2-4c69-815f-0f42e8873796",
   "metadata": {},
   "source": [
    "当我们交换矩阵的行和列时，结果称为矩阵的转置（transpose）"
   ]
  },
  {
   "cell_type": "code",
   "execution_count": 7,
   "id": "3194fec4-a010-481c-876e-6cadf37f949e",
   "metadata": {},
   "outputs": [
    {
     "data": {
      "text/plain": [
       "array([[ 0,  4,  8, 12, 16],\n",
       "       [ 1,  5,  9, 13, 17],\n",
       "       [ 2,  6, 10, 14, 18],\n",
       "       [ 3,  7, 11, 15, 19]])"
      ]
     },
     "execution_count": 7,
     "metadata": {},
     "output_type": "execute_result"
    }
   ],
   "source": [
    "A.T"
   ]
  },
  {
   "cell_type": "code",
   "execution_count": 15,
   "id": "c773562a-e33a-4167-8d6c-4ae1866daaad",
   "metadata": {},
   "outputs": [
    {
     "data": {
      "text/plain": [
       "(array([[ 0,  1,  2,  3],\n",
       "        [ 4,  5,  6,  7],\n",
       "        [ 8,  9, 10, 11],\n",
       "        [12, 13, 14, 15],\n",
       "        [16, 17, 18, 19]]),\n",
       " array([[ 0,  2,  4,  6],\n",
       "        [ 8, 10, 12, 14],\n",
       "        [16, 18, 20, 22],\n",
       "        [24, 26, 28, 30],\n",
       "        [32, 34, 36, 38]]))"
      ]
     },
     "execution_count": 15,
     "metadata": {},
     "output_type": "execute_result"
    }
   ],
   "source": [
    "A = np.arange(20).reshape(5, 4)\n",
    "B = A.copy()  # 通过分配新内存，将A的一个副本分配给B\n",
    "A, A + B"
   ]
  },
  {
   "cell_type": "code",
   "execution_count": 16,
   "id": "c8ec6c4e-06f0-4073-bc39-0db482735da0",
   "metadata": {},
   "outputs": [
    {
     "data": {
      "text/plain": [
       "array([[  0,   1,   4,   9],\n",
       "       [ 16,  25,  36,  49],\n",
       "       [ 64,  81, 100, 121],\n",
       "       [144, 169, 196, 225],\n",
       "       [256, 289, 324, 361]])"
      ]
     },
     "execution_count": 16,
     "metadata": {},
     "output_type": "execute_result"
    }
   ],
   "source": [
    "A * B"
   ]
  },
  {
   "cell_type": "markdown",
   "id": "ecd1c5a3-8d12-48f1-b4d3-ba1548035e74",
   "metadata": {},
   "source": [
    "## 降维"
   ]
  },
  {
   "cell_type": "code",
   "execution_count": null,
   "id": "b05bd70f-e9d4-49b6-80be-eeb1c472ef5e",
   "metadata": {},
   "outputs": [],
   "source": []
  },
  {
   "cell_type": "code",
   "execution_count": null,
   "id": "ff26fcdd-c50f-4170-ae17-a5db8ba5d416",
   "metadata": {},
   "outputs": [],
   "source": []
  }
 ],
 "metadata": {
  "kernelspec": {
   "display_name": "Python 3 (ipykernel)",
   "language": "python",
   "name": "python3"
  },
  "language_info": {
   "codemirror_mode": {
    "name": "ipython",
    "version": 3
   },
   "file_extension": ".py",
   "mimetype": "text/x-python",
   "name": "python",
   "nbconvert_exporter": "python",
   "pygments_lexer": "ipython3",
   "version": "3.8.19"
  }
 },
 "nbformat": 4,
 "nbformat_minor": 5
}
