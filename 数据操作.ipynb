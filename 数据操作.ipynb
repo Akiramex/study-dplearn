{
 "cells": [
  {
   "cell_type": "markdown",
   "id": "077134d1-4522-44bb-b118-70e8efe1c5ae",
   "metadata": {},
   "source": [
    "# 数据操作"
   ]
  },
  {
   "cell_type": "markdown",
   "id": "0c751188-6e40-41c9-95bc-e85889c8f72f",
   "metadata": {},
   "source": [
    "## numpy"
   ]
  },
  {
   "cell_type": "code",
   "execution_count": 1,
   "id": "1704713b-c727-4335-b8ab-5f5cf5004c01",
   "metadata": {},
   "outputs": [],
   "source": [
    "import numpy as np"
   ]
  },
  {
   "cell_type": "raw",
   "id": "291c3c2f-6758-429a-8990-f4102e974501",
   "metadata": {},
   "source": [
    "0-d(标量） 1.0  -- 一个类别\n",
    "1-d(向量) [1.0, 2.7]  -- 一个特征向量\n",
    "2-d(矩阵) [[1.0,2.7]\n",
    "           [5.0,0.2]] -- 一个样本-特征矩阵\n",
    "3-d 三维 -- RGB图片\n",
    "4-d 四维 -- 一个RGB图片批量\n",
    "5-d 五维 -- 一个视频批量"
   ]
  },
  {
   "cell_type": "code",
   "execution_count": 2,
   "id": "4f0bf82e-ac2e-41e0-be99-4bc713e295f4",
   "metadata": {},
   "outputs": [],
   "source": [
    "arr = np.arange(16)"
   ]
  },
  {
   "cell_type": "code",
   "execution_count": 3,
   "id": "31d2f207-6017-4c79-83f5-92246a650a6c",
   "metadata": {},
   "outputs": [
    {
     "data": {
      "text/plain": [
       "array([[ 0,  1,  2,  3],\n",
       "       [ 4,  5,  6,  7],\n",
       "       [ 8,  9, 10, 11],\n",
       "       [12, 13, 14, 15]])"
      ]
     },
     "execution_count": 3,
     "metadata": {},
     "output_type": "execute_result"
    }
   ],
   "source": [
    "arr = arr.reshape(4,4)\n",
    "arr"
   ]
  },
  {
   "cell_type": "code",
   "execution_count": 4,
   "id": "13724ec7-0221-4734-a0d6-1104646c83d8",
   "metadata": {},
   "outputs": [
    {
     "data": {
      "text/plain": [
       "6"
      ]
     },
     "execution_count": 4,
     "metadata": {},
     "output_type": "execute_result"
    }
   ],
   "source": [
    "a = arr[1,2]\n",
    "a"
   ]
  },
  {
   "cell_type": "code",
   "execution_count": 5,
   "id": "1d47e453-91c7-4254-b9d9-98340a9fa154",
   "metadata": {},
   "outputs": [
    {
     "data": {
      "text/plain": [
       "array([4, 5, 6, 7])"
      ]
     },
     "execution_count": 5,
     "metadata": {},
     "output_type": "execute_result"
    }
   ],
   "source": [
    "b = arr[1,:]\n",
    "b"
   ]
  },
  {
   "cell_type": "code",
   "execution_count": 6,
   "id": "9fbfb7d0-9922-4cfb-b570-7597eaf2162c",
   "metadata": {},
   "outputs": [
    {
     "data": {
      "text/plain": [
       "array([ 1,  5,  9, 13])"
      ]
     },
     "execution_count": 6,
     "metadata": {},
     "output_type": "execute_result"
    }
   ],
   "source": [
    "c = arr[:,1]\n",
    "c"
   ]
  },
  {
   "cell_type": "code",
   "execution_count": 7,
   "id": "79c9f330-ebe8-4eb7-add9-4d6d42a8106e",
   "metadata": {},
   "outputs": [
    {
     "data": {
      "text/plain": [
       "array([[ 5,  6,  7],\n",
       "       [ 9, 10, 11]])"
      ]
     },
     "execution_count": 7,
     "metadata": {},
     "output_type": "execute_result"
    }
   ],
   "source": [
    "d = arr[1:3, 1:]\n",
    "d"
   ]
  },
  {
   "cell_type": "code",
   "execution_count": 8,
   "id": "13c3aefc-5462-4263-97ea-35cf426ec534",
   "metadata": {},
   "outputs": [
    {
     "data": {
      "text/plain": [
       "array([[ 0,  2],\n",
       "       [12, 14]])"
      ]
     },
     "execution_count": 8,
     "metadata": {},
     "output_type": "execute_result"
    }
   ],
   "source": [
    "# 每三行，每两列\n",
    "e = arr[::3, ::2]  \n",
    "e"
   ]
  },
  {
   "cell_type": "markdown",
   "id": "5a94dbf6-521d-4284-b7a3-f463ade49744",
   "metadata": {},
   "source": [
    "## PyTorch"
   ]
  },
  {
   "cell_type": "code",
   "execution_count": null,
   "id": "12714543-907d-4f3f-a1a1-d538ed392cf1",
   "metadata": {},
   "outputs": [],
   "source": []
  }
 ],
 "metadata": {
  "kernelspec": {
   "display_name": "Python 3 (ipykernel)",
   "language": "python",
   "name": "python3"
  },
  "language_info": {
   "codemirror_mode": {
    "name": "ipython",
    "version": 3
   },
   "file_extension": ".py",
   "mimetype": "text/x-python",
   "name": "python",
   "nbconvert_exporter": "python",
   "pygments_lexer": "ipython3",
   "version": "3.8.19"
  }
 },
 "nbformat": 4,
 "nbformat_minor": 5
}
